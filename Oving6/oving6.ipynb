{
 "cells": [
  {
   "metadata": {},
   "cell_type": "markdown",
   "source": [
    "# Exercise 6\n",
    "\n",
    "For this exercise you can use either Python with sklearn or Weka.\n",
    "\n",
    "* Using the UCI mushroom dataset from the last exercise, perform a feature selection using a classifier evaluator. Which features are most discriminitave?\n",
    "* Use principal components analysis to construct a reduced space. Which combination of features explain the most variance in the dataset?\n",
    "* Do you see any overlap between the PCA features and those obtained from feature selection?"
   ],
   "id": "bfa8e1aab8ceb77"
  },
  {
   "metadata": {
    "collapsed": true,
    "ExecuteTime": {
     "end_time": "2024-10-05T16:12:49.239389Z",
     "start_time": "2024-10-05T16:12:49.090984Z"
    }
   },
   "cell_type": "code",
   "source": [
    "from sklearn import decomposition\n",
    "from sklearn.feature_selection import SelectKBest\n",
    "from sklearn.feature_selection import chi2\n",
    "import pandas as pd\n",
    " \n",
    "\n",
    "df = pd.read_csv('./agaricus-lepiota.csv')\n",
    "x, y = pd.get_dummies(df), pd.get_dummies(df['edibility'])\n",
    "\n",
    "# SelectKBest with chi2 and k = 5\n",
    "skb = SelectKBest(chi2, k=5)\n",
    "# Fit the selector to the dataset\n",
    "skb.fit(x, y)\n",
    "# Transform the dataset to include only the selected top 5 features\n",
    "x_new = skb.transform(x)\n",
    "\n",
    "print(\"Original shape\", x.shape)\n",
    "print(\"Skb shape:\", x_new.shape)\n",
    "\n",
    "selected = [pd.get_dummies(df).columns[i] for i in skb.get_support(indices=True)]\n",
    "print(\"Selected features:\", \", \".join(selected))"
   ],
   "id": "initial_id",
   "outputs": [
    {
     "name": "stdout",
     "output_type": "stream",
     "text": [
      "Original shape (8124, 119)\n",
      "Skb shape: (8124, 5)\n",
      "Selected features: edibility_e, edibility_p, odor_f, odor_n, stalk-surface-above-ring_k\n"
     ]
    }
   ],
   "execution_count": 38
  },
  {
   "metadata": {
    "ExecuteTime": {
     "end_time": "2024-10-05T16:13:17.201802Z",
     "start_time": "2024-10-05T16:13:17.157193Z"
    }
   },
   "cell_type": "code",
   "source": [
    "print(\"Original space:\", x.shape)\n",
    "# Perform PCA, reducing the dimensionality to 5 principal components\n",
    "pca = decomposition.PCA(n_components=5)\n",
    "# Fit the PCA model and apply the dimensionality reduction\n",
    "x_pca = pca.fit_transform(x)\n",
    "\n",
    "print(\"PCA space:\", x_pca.shape)\n",
    "# Find the indices of the features that contribute the most to each of the principal components\n",
    "# pca.components_[i].argmax() gets the index of the feature with the highest contribution for each component\n",
    "best_features = [pca.components_[i].argmax() for i in range(x_pca.shape[1])]\n",
    "# Retrieve the feature names corresponding to the indices found in the previous step\n",
    "feature_names = [x.columns[best_features[i]] for i in range(x_pca.shape[1])]\n",
    "print(\"Features in which gives max variance:\", \", \".join(feature_names))"
   ],
   "id": "6ae98f2f2696e361",
   "outputs": [
    {
     "name": "stdout",
     "output_type": "stream",
     "text": [
      "Original space: (8124, 119)\n",
      "PCA space: (8124, 5)\n",
      "Features in which gives max variance: edibility_e, stalk-root_b, habitat_d, stalk-shape_e, odor_n\n"
     ]
    }
   ],
   "execution_count": 41
  },
  {
   "metadata": {
    "ExecuteTime": {
     "end_time": "2024-10-05T16:12:49.518907Z",
     "start_time": "2024-10-05T16:12:49.507204Z"
    }
   },
   "cell_type": "code",
   "source": "set(selected).intersection(set(feature_names))",
   "id": "1a3d9c2ab9b682e2",
   "outputs": [
    {
     "data": {
      "text/plain": [
       "{'edibility_e', 'odor_n'}"
      ]
     },
     "execution_count": 40,
     "metadata": {},
     "output_type": "execute_result"
    }
   ],
   "execution_count": 40
  }
 ],
 "metadata": {
  "kernelspec": {
   "display_name": "Python 3",
   "language": "python",
   "name": "python3"
  },
  "language_info": {
   "codemirror_mode": {
    "name": "ipython",
    "version": 2
   },
   "file_extension": ".py",
   "mimetype": "text/x-python",
   "name": "python",
   "nbconvert_exporter": "python",
   "pygments_lexer": "ipython2",
   "version": "2.7.6"
  }
 },
 "nbformat": 4,
 "nbformat_minor": 5
}
